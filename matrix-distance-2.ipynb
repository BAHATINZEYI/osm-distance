{
 "cells": [
  {
   "cell_type": "code",
   "execution_count": 9,
   "metadata": {},
   "outputs": [],
   "source": [
    "# Libraries\n",
    "import requests\n",
    "from concurrent.futures import ThreadPoolExecutor, as_completed\n",
    "import tqdm \n",
    "import pandas as pd \n",
    "import os"
   ]
  },
  {
   "cell_type": "code",
   "execution_count": 10,
   "metadata": {},
   "outputs": [],
   "source": [
    "# Constants\n",
    "SRC_PATH = \"/Users/abdoul/Desktop/Training/OSM-distance\"\n",
    "RESULTS_PATH = os.path.join(SRC_PATH, 'resultats.csv')"
   ]
  },
  {
   "cell_type": "code",
   "execution_count": 11,
   "metadata": {},
   "outputs": [],
   "source": [
    "# Function to calculate the distance and duration between two points using the OpenStreetMap API\n",
    "def get_osrm_route_info(profile, lat1, lon1, lat2, lon2):\n",
    "\n",
    "    osrm_endpoint = \"http://router.project-osrm.org/route/v1/{}/{},{};{},{}?geometries=geojson&steps=true\"\n",
    "    response = requests.get(osrm_endpoint.format(profile, lon1, lat1, lon2, lat2))\n",
    "\n",
    "    if response.status_code == 200: # The HTTP 200 OK success status response code indicates that the request has succeeded\n",
    "        data = response.json()\n",
    "        if \"routes\" in data and len(data[\"routes\"]) > 0:\n",
    "            route = data[\"routes\"][0]\n",
    "            distance = route[\"distance\"] / 1000  # Convert meters to kilometers\n",
    "            duration = route[\"duration\"] / 60  # Convert seconds to minutes\n",
    "            return distance, duration\n",
    "        else:\n",
    "            return None, None\n",
    "    else:\n",
    "        return None, None"
   ]
  },
  {
   "cell_type": "code",
   "execution_count": 12,
   "metadata": {},
   "outputs": [],
   "source": [
    "# Define the profiles, origins, and destinations\n",
    "\n",
    "origins = destinations = pd.read_csv(\"./coord_IRIS.csv\").values[:10]\n",
    "\n",
    "profiles = [\"car\"]\n",
    "\n",
    "# Create resultat file\n",
    "with open(RESULTS_PATH, \"w\") as f:\n",
    "    f.write(\"profile,origin,destination,distance,duration\\n\")"
   ]
  },
  {
   "cell_type": "code",
   "execution_count": null,
   "metadata": {},
   "outputs": [],
   "source": [
    "def get_osrm_matrix_parallel(profiles: list, origins: list, destinations: list):\n",
    "    \"\"\"\n",
    "    Calcule en parallèle les distances et durées entre chaque origine et destination\n",
    "    pour chaque profil, en utilisant la fonction get_osrm_route_info.\n",
    "    \n",
    "    :param profiles: Liste des profils à utiliser.\n",
    "    :param origins: Liste d'éléments de la forme (origine, lat, lon).\n",
    "    :param destinations: Liste d'éléments de la forme (destination, lat, lon).\n",
    "    :return: Dictionnaire où chaque profil est associé à une liste de résultats.\n",
    "    \"\"\"\n",
    "    \n",
    "    # Fonction qui traite une seule combinaison de profil, origine et destination\n",
    "    def process_task(profile, item1, item2):\n",
    "        origin, lat1, lon1 = item1[0], item1[1], item1[2]\n",
    "        destination, lat2, lon2 = item2[0], item2[1], item2[2]\n",
    "\n",
    "        if origin == destination:\n",
    "            distance, duration = 0, 0 \n",
    "        else:\n",
    "            distance, duration = get_osrm_route_info(profile, lat1, lon1, lat2, lon2)\n",
    "            if distance is not None and duration is not None:\n",
    "                distance = round(distance, 2)\n",
    "            else:\n",
    "                print(f\"Erreur lors de la récupération des infos de route pour {profile}\")\n",
    "        \n",
    "        with open(RESULTS_PATH, \"a\") as f:\n",
    "            f.write(f\"{profile},{origin},{destination},{distance},{duration}\\n\")\n",
    "            \n",
    "    # Constitution de la liste des tâches à exécuter\n",
    "    tasks = []\n",
    "    for profile in profiles:\n",
    "        print(f\"Calcul des distances en utilisant le profil : {profile}\")\n",
    "        for item1 in origins:\n",
    "            for item2 in destinations:\n",
    "                tasks.append((profile, item1, item2))\n",
    "                \n",
    "    total_tasks = len(tasks)\n",
    "    \n",
    "    # Exécution parallèle des tâches\n",
    "    with ThreadPoolExecutor(max_workers=(os.cpu_count() - 1)) as executor:\n",
    "        futures = [executor.submit(process_task, profile, item1, item2)\n",
    "                   for profile, item1, item2 in tasks]\n",
    "        \n",
    "        with tqdm.tqdm(total=total_tasks) as pbar:\n",
    "            for future in as_completed(futures):\n",
    "                future.result()\n",
    "                pbar.update(1)"
   ]
  },
  {
   "cell_type": "code",
   "execution_count": 14,
   "metadata": {},
   "outputs": [
    {
     "name": "stdout",
     "output_type": "stream",
     "text": [
      "Calcul des distances en utilisant le profil : car\n"
     ]
    },
    {
     "name": "stderr",
     "output_type": "stream",
     "text": [
      "  0%|          | 0/100 [00:00<?, ?it/s]"
     ]
    },
    {
     "name": "stderr",
     "output_type": "stream",
     "text": [
      "100%|██████████| 100/100 [00:44<00:00,  2.24it/s]\n"
     ]
    }
   ],
   "source": [
    "# raw_data = get_osrm_matrix_parallel(profiles, origins, destinations)\n",
    "get_osrm_matrix_parallel(profiles, origins, destinations)\n"
   ]
  },
  {
   "cell_type": "code",
   "execution_count": 15,
   "metadata": {},
   "outputs": [],
   "source": [
    "# Distance matrix\n",
    "df = pd.read_csv(RESULTS_PATH)\n",
    "df_distance = df.pivot(index=\"origin\", columns=\"destination\", values=\"distance\")\n",
    "df_distance.to_csv(f\"{SRC_PATH}/distance_matrix.csv\")"
   ]
  },
  {
   "cell_type": "code",
   "execution_count": 16,
   "metadata": {},
   "outputs": [],
   "source": [
    "# Duration matrix\n",
    "df = pd.read_csv(RESULTS_PATH)\n",
    "df_duration = df.pivot(index=\"origin\", columns=\"destination\", values=\"duration\")\n",
    "df_duration.to_csv(f\"{SRC_PATH}/duration_matrix.csv\")"
   ]
  }
 ],
 "metadata": {
  "kernelspec": {
   "display_name": "ml-env",
   "language": "python",
   "name": "python3"
  },
  "language_info": {
   "codemirror_mode": {
    "name": "ipython",
    "version": 3
   },
   "file_extension": ".py",
   "mimetype": "text/x-python",
   "name": "python",
   "nbconvert_exporter": "python",
   "pygments_lexer": "ipython3",
   "version": "3.9.21"
  }
 },
 "nbformat": 4,
 "nbformat_minor": 2
}
